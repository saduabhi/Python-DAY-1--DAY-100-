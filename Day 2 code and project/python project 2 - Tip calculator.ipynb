{
 "cells": [
  {
   "cell_type": "markdown",
   "id": "2a5a71d4",
   "metadata": {},
   "source": [
    "**python project 2 - Tip calculator.**"
   ]
  },
  {
   "cell_type": "code",
   "execution_count": 69,
   "id": "58e1c083",
   "metadata": {},
   "outputs": [
    {
     "name": "stdout",
     "output_type": "stream",
     "text": [
      "welcome to the tip calculator!\n",
      "what was the total bill? $100\n",
      "how much tip would you like to give? 10, 12, 15?10\n",
      "how many people are splitting the bill?2\n",
      "each person should pay $55.00\n"
     ]
    }
   ],
   "source": [
    "print(\"welcome to the tip calculator!\")\n",
    "bill=float(input(\"what was the total bill? $\"))\n",
    "tip=int(input(\"how much tip would you like to give? 10, 12, 15?\"))\n",
    "people = int(input(\"how many people are splitting the bill?\"))\n",
    "tip_as_percent = tip/100 \n",
    "total_tip_amount = bill * tip_as_percent\n",
    "total_bill = bill + total_tip_amount\n",
    "bill_per_person = total_bill/people\n",
    "final_amount = round(bill_per_person, 2)\n",
    "final_amount = \"{:.2f}\".format(bill_per_person)\n",
    "print(f\"each person should pay ${final_amount}\")"
   ]
  },
  {
   "cell_type": "code",
   "execution_count": 70,
   "id": "7aa967b7",
   "metadata": {},
   "outputs": [
    {
     "name": "stdout",
     "output_type": "stream",
     "text": [
      "welcome to the tip calculator!\n",
      "what was the total bill? $150\n",
      "how much tip would you like to give? 10, 12, 15?12\n",
      "how many people are splitting the bill?5\n",
      "each person should pay $33.60\n"
     ]
    }
   ],
   "source": [
    "print(\"welcome to the tip calculator!\")\n",
    "bill=float(input(\"what was the total bill? $\"))\n",
    "tip=int(input(\"how much tip would you like to give? 10, 12, 15?\"))\n",
    "people = int(input(\"how many people are splitting the bill?\"))\n",
    "tip_as_percent = tip/100 \n",
    "total_tip_amount = bill * tip_as_percent\n",
    "total_bill = bill + total_tip_amount\n",
    "bill_per_person = total_bill/people\n",
    "final_amount = round(bill_per_person, 2)\n",
    "final_amount = \"{:.2f}\".format(bill_per_person)\n",
    "print(f\"each person should pay ${final_amount}\")\n"
   ]
  },
  {
   "cell_type": "code",
   "execution_count": null,
   "id": "05150177",
   "metadata": {},
   "outputs": [],
   "source": []
  },
  {
   "cell_type": "code",
   "execution_count": null,
   "id": "3568b543",
   "metadata": {},
   "outputs": [],
   "source": []
  },
  {
   "cell_type": "code",
   "execution_count": null,
   "id": "a2c7d72c",
   "metadata": {},
   "outputs": [],
   "source": []
  }
 ],
 "metadata": {
  "kernelspec": {
   "display_name": "Python 3",
   "language": "python",
   "name": "python3"
  },
  "language_info": {
   "codemirror_mode": {
    "name": "ipython",
    "version": 3
   },
   "file_extension": ".py",
   "mimetype": "text/x-python",
   "name": "python",
   "nbconvert_exporter": "python",
   "pygments_lexer": "ipython3",
   "version": "3.8.8"
  }
 },
 "nbformat": 4,
 "nbformat_minor": 5
}
