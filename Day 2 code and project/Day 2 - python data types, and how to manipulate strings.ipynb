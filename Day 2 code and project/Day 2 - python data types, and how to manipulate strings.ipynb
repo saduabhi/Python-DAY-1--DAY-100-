{
 "cells": [
  {
   "cell_type": "markdown",
   "id": "37b398d5",
   "metadata": {},
   "source": [
    "**Day 2 - python data types, and how to manipulate strings.**"
   ]
  },
  {
   "cell_type": "code",
   "execution_count": 1,
   "id": "6feac5e2",
   "metadata": {},
   "outputs": [
    {
     "name": "stdout",
     "output_type": "stream",
     "text": [
      "H\n"
     ]
    }
   ],
   "source": [
    "#Data types\n",
    "\n",
    "#String\n",
    "\n",
    "print(\"Hello\"[0])"
   ]
  },
  {
   "cell_type": "code",
   "execution_count": 2,
   "id": "19d512fb",
   "metadata": {},
   "outputs": [
    {
     "name": "stdout",
     "output_type": "stream",
     "text": [
      "l\n"
     ]
    }
   ],
   "source": [
    "print(\"Hello\"[3])"
   ]
  },
  {
   "cell_type": "code",
   "execution_count": 3,
   "id": "58187d7a",
   "metadata": {},
   "outputs": [
    {
     "data": {
      "text/plain": [
       "'l'"
      ]
     },
     "execution_count": 3,
     "metadata": {},
     "output_type": "execute_result"
    }
   ],
   "source": [
    "\"hello\"[2]"
   ]
  },
  {
   "cell_type": "code",
   "execution_count": 6,
   "id": "4c7e9ccc",
   "metadata": {},
   "outputs": [
    {
     "data": {
      "text/plain": [
       "'123345'"
      ]
     },
     "execution_count": 6,
     "metadata": {},
     "output_type": "execute_result"
    }
   ],
   "source": [
    "\"123\" + \"345\""
   ]
  },
  {
   "cell_type": "code",
   "execution_count": 8,
   "id": "117000ca",
   "metadata": {},
   "outputs": [
    {
     "data": {
      "text/plain": [
       "579"
      ]
     },
     "execution_count": 8,
     "metadata": {},
     "output_type": "execute_result"
    }
   ],
   "source": [
    "#Integers\n",
    "\n",
    "123 + 456"
   ]
  },
  {
   "cell_type": "code",
   "execution_count": 9,
   "id": "32cf764f",
   "metadata": {},
   "outputs": [
    {
     "data": {
      "text/plain": [
       "123456789"
      ]
     },
     "execution_count": 9,
     "metadata": {},
     "output_type": "execute_result"
    }
   ],
   "source": [
    "123_456_789"
   ]
  },
  {
   "cell_type": "code",
   "execution_count": 10,
   "id": "2c90e75a",
   "metadata": {},
   "outputs": [
    {
     "data": {
      "text/plain": [
       "3.1456"
      ]
     },
     "execution_count": 10,
     "metadata": {},
     "output_type": "execute_result"
    }
   ],
   "source": [
    "#float\n",
    "\n",
    "3.1456"
   ]
  },
  {
   "cell_type": "code",
   "execution_count": 11,
   "id": "dce6162e",
   "metadata": {},
   "outputs": [
    {
     "data": {
      "text/plain": [
       "314.567"
      ]
     },
     "execution_count": 11,
     "metadata": {},
     "output_type": "execute_result"
    }
   ],
   "source": [
    "314.567"
   ]
  },
  {
   "cell_type": "code",
   "execution_count": 15,
   "id": "2dd3bced",
   "metadata": {},
   "outputs": [
    {
     "data": {
      "text/plain": [
       "True"
      ]
     },
     "execution_count": 15,
     "metadata": {},
     "output_type": "execute_result"
    }
   ],
   "source": [
    "#Boolean\n",
    "\n",
    "True or False\n",
    "#True and False"
   ]
  },
  {
   "cell_type": "code",
   "execution_count": null,
   "id": "5d81dea5",
   "metadata": {},
   "outputs": [],
   "source": []
  },
  {
   "cell_type": "code",
   "execution_count": 18,
   "id": "33ffa2cd",
   "metadata": {},
   "outputs": [
    {
     "name": "stdout",
     "output_type": "stream",
     "text": [
      "what is your name?sadu\n",
      "<class 'int'>\n"
     ]
    }
   ],
   "source": [
    "#type error , type checking and type conversion\n",
    "\n",
    "num_char = len(input(\"what is your name?\"))\n",
    "print(type(num_char))"
   ]
  },
  {
   "cell_type": "code",
   "execution_count": 21,
   "id": "19e76368",
   "metadata": {},
   "outputs": [
    {
     "ename": "TypeError",
     "evalue": "object of type 'int' has no len()",
     "output_type": "error",
     "traceback": [
      "\u001b[1;31m---------------------------------------------------------------------------\u001b[0m",
      "\u001b[1;31mTypeError\u001b[0m                                 Traceback (most recent call last)",
      "\u001b[1;32m<ipython-input-21-933026245485>\u001b[0m in \u001b[0;36m<module>\u001b[1;34m\u001b[0m\n\u001b[0;32m      1\u001b[0m \u001b[1;31m#type error\u001b[0m\u001b[1;33m\u001b[0m\u001b[1;33m\u001b[0m\u001b[1;33m\u001b[0m\u001b[0m\n\u001b[1;32m----> 2\u001b[1;33m \u001b[0mlen\u001b[0m\u001b[1;33m(\u001b[0m\u001b[1;36m45679\u001b[0m\u001b[1;33m)\u001b[0m\u001b[1;33m\u001b[0m\u001b[1;33m\u001b[0m\u001b[0m\n\u001b[0m",
      "\u001b[1;31mTypeError\u001b[0m: object of type 'int' has no len()"
     ]
    }
   ],
   "source": [
    "#type error\n",
    "len(45679)"
   ]
  },
  {
   "cell_type": "code",
   "execution_count": 20,
   "id": "7ededb3a",
   "metadata": {},
   "outputs": [
    {
     "name": "stdout",
     "output_type": "stream",
     "text": [
      "what is your name?sadu\n",
      "<class 'int'>\n"
     ]
    }
   ],
   "source": [
    "#type checking\n",
    "\n",
    "#num_char = len(input(\"what is your name?\"))\n",
    "print(type(len(input(\"what is your name?\"))))"
   ]
  },
  {
   "cell_type": "code",
   "execution_count": 25,
   "id": "6c1293b7",
   "metadata": {},
   "outputs": [
    {
     "name": "stdout",
     "output_type": "stream",
     "text": [
      "what is your name?saduabhi\n",
      "your name has 8 characters.\n"
     ]
    }
   ],
   "source": [
    "#type conversion\n",
    "\n",
    "num_char = len(input(\"what is your name?\"))\n",
    "new_num_char = str(num_char)\n",
    "\n",
    "print(\"your name has \" + new_num_char + \" characters.\")\n"
   ]
  },
  {
   "cell_type": "code",
   "execution_count": 26,
   "id": "aa0cfa38",
   "metadata": {},
   "outputs": [
    {
     "data": {
      "text/plain": [
       "int"
      ]
     },
     "execution_count": 26,
     "metadata": {},
     "output_type": "execute_result"
    }
   ],
   "source": [
    "a = 123\n",
    "type(a)"
   ]
  },
  {
   "cell_type": "code",
   "execution_count": 27,
   "id": "3e02f066",
   "metadata": {},
   "outputs": [
    {
     "data": {
      "text/plain": [
       "str"
      ]
     },
     "execution_count": 27,
     "metadata": {},
     "output_type": "execute_result"
    }
   ],
   "source": [
    "a = str(123)\n",
    "type(a)"
   ]
  },
  {
   "cell_type": "code",
   "execution_count": 28,
   "id": "907c67d1",
   "metadata": {},
   "outputs": [
    {
     "name": "stdout",
     "output_type": "stream",
     "text": [
      "<class 'str'>\n"
     ]
    }
   ],
   "source": [
    "a = str(123)\n",
    "print(type(a))"
   ]
  },
  {
   "cell_type": "code",
   "execution_count": 29,
   "id": "8b6fbff9",
   "metadata": {},
   "outputs": [
    {
     "name": "stdout",
     "output_type": "stream",
     "text": [
      "170.5\n"
     ]
    }
   ],
   "source": [
    "print(70 + float(\"100.5\"))"
   ]
  },
  {
   "cell_type": "code",
   "execution_count": 30,
   "id": "dd0e2f91",
   "metadata": {},
   "outputs": [
    {
     "name": "stdout",
     "output_type": "stream",
     "text": [
      "70100\n"
     ]
    }
   ],
   "source": [
    "print(str(70)+ str(100))"
   ]
  },
  {
   "cell_type": "code",
   "execution_count": 33,
   "id": "d873f7ab",
   "metadata": {},
   "outputs": [
    {
     "name": "stdout",
     "output_type": "stream",
     "text": [
      "Type a two digit number: 55\n",
      "55\n"
     ]
    }
   ],
   "source": [
    "# 🚨 Don't change the code below 👇\n",
    "two_digit_number = input(\"Type a two digit number: \")\n",
    "# 🚨 Don't change the code above 👆\n",
    "\n",
    "####################################\n",
    "#Write your code below this line 👇\n",
    "\n",
    "first_digit = two_digit_number[0]\n",
    "second_digit = two_digit_number[1]\n",
    "\n",
    "result = first_digit + second_digit\n",
    "print(result)"
   ]
  },
  {
   "cell_type": "code",
   "execution_count": 34,
   "id": "c247db91",
   "metadata": {},
   "outputs": [
    {
     "name": "stdout",
     "output_type": "stream",
     "text": [
      "Type a two digit number: 55\n",
      "10\n"
     ]
    }
   ],
   "source": [
    "# 🚨 Don't change the code below 👇\n",
    "two_digit_number = input(\"Type a two digit number: \")\n",
    "# 🚨 Don't change the code above 👆\n",
    "\n",
    "####################################\n",
    "#Write your code below this line 👇\n",
    "\n",
    "first_digit = two_digit_number[0]\n",
    "second_digit = two_digit_number[1]\n",
    "\n",
    "result = int(first_digit) + int(second_digit)\n",
    "print(result)"
   ]
  },
  {
   "cell_type": "code",
   "execution_count": 36,
   "id": "39963bd3",
   "metadata": {},
   "outputs": [
    {
     "data": {
      "text/plain": [
       "8"
      ]
     },
     "execution_count": 36,
     "metadata": {},
     "output_type": "execute_result"
    }
   ],
   "source": [
    "#mathematical operation in python\n",
    "\n",
    "3+5\n"
   ]
  },
  {
   "cell_type": "code",
   "execution_count": 37,
   "id": "30f86f9a",
   "metadata": {},
   "outputs": [
    {
     "data": {
      "text/plain": [
       "4"
      ]
     },
     "execution_count": 37,
     "metadata": {},
     "output_type": "execute_result"
    }
   ],
   "source": [
    "7-3\n"
   ]
  },
  {
   "cell_type": "code",
   "execution_count": 38,
   "id": "24b8c6b0",
   "metadata": {},
   "outputs": [
    {
     "data": {
      "text/plain": [
       "6"
      ]
     },
     "execution_count": 38,
     "metadata": {},
     "output_type": "execute_result"
    }
   ],
   "source": [
    "3*2\n"
   ]
  },
  {
   "cell_type": "code",
   "execution_count": 39,
   "id": "0d628ee1",
   "metadata": {},
   "outputs": [
    {
     "data": {
      "text/plain": [
       "2.0"
      ]
     },
     "execution_count": 39,
     "metadata": {},
     "output_type": "execute_result"
    }
   ],
   "source": [
    "6/3"
   ]
  },
  {
   "cell_type": "code",
   "execution_count": 41,
   "id": "59d21268",
   "metadata": {},
   "outputs": [
    {
     "data": {
      "text/plain": [
       "8"
      ]
     },
     "execution_count": 41,
     "metadata": {},
     "output_type": "execute_result"
    }
   ],
   "source": [
    "2**3 #exponential"
   ]
  },
  {
   "cell_type": "code",
   "execution_count": 42,
   "id": "222639f9",
   "metadata": {},
   "outputs": [
    {
     "data": {
      "text/plain": [
       "125"
      ]
     },
     "execution_count": 42,
     "metadata": {},
     "output_type": "execute_result"
    }
   ],
   "source": [
    "5**3"
   ]
  },
  {
   "cell_type": "code",
   "execution_count": 43,
   "id": "0a96038b",
   "metadata": {},
   "outputs": [
    {
     "name": "stdout",
     "output_type": "stream",
     "text": [
      "7.0\n"
     ]
    }
   ],
   "source": [
    "#Pemdas\n",
    "\n",
    "print(3*3 + 3 / 3 - 3)"
   ]
  },
  {
   "cell_type": "code",
   "execution_count": 44,
   "id": "28278075",
   "metadata": {},
   "outputs": [
    {
     "name": "stdout",
     "output_type": "stream",
     "text": [
      "3.0\n"
     ]
    }
   ],
   "source": [
    "print(3*(3 + 3) / 3 - 3)"
   ]
  },
  {
   "cell_type": "code",
   "execution_count": 49,
   "id": "89a86d97",
   "metadata": {},
   "outputs": [
    {
     "name": "stdout",
     "output_type": "stream",
     "text": [
      "enter your height in mt: 1.8\n",
      "enter your weight in kg: 70\n",
      "21\n"
     ]
    }
   ],
   "source": [
    "#BMI calculator\n",
    "\n",
    "height = input(\"enter your height in mt: \")\n",
    "weight = input(\"enter your weight in kg: \")\n",
    "\n",
    "bmi = int(weight) / float(height) **2\n",
    "\n",
    "print(int(bmi))"
   ]
  },
  {
   "cell_type": "code",
   "execution_count": 50,
   "id": "6c8c0683",
   "metadata": {},
   "outputs": [
    {
     "name": "stdout",
     "output_type": "stream",
     "text": [
      "2.67\n"
     ]
    }
   ],
   "source": [
    "#round the number of the decimal values\n",
    "\n",
    "print(round(8/3, 2))"
   ]
  },
  {
   "cell_type": "code",
   "execution_count": 51,
   "id": "f0b3301e",
   "metadata": {},
   "outputs": [
    {
     "name": "stdout",
     "output_type": "stream",
     "text": [
      "2\n"
     ]
    }
   ],
   "source": [
    "print(8//3)"
   ]
  },
  {
   "cell_type": "code",
   "execution_count": 52,
   "id": "44e3763b",
   "metadata": {},
   "outputs": [
    {
     "name": "stdout",
     "output_type": "stream",
     "text": [
      "1.0\n"
     ]
    }
   ],
   "source": [
    "result =4/2\n",
    "result /=2\n",
    "print(result)"
   ]
  },
  {
   "cell_type": "code",
   "execution_count": 53,
   "id": "2dfd5d78",
   "metadata": {},
   "outputs": [
    {
     "name": "stdout",
     "output_type": "stream",
     "text": [
      "1\n"
     ]
    }
   ],
   "source": [
    "score =0\n",
    "score +=1\n",
    "print(score)"
   ]
  },
  {
   "cell_type": "code",
   "execution_count": 54,
   "id": "d288860b",
   "metadata": {},
   "outputs": [
    {
     "name": "stdout",
     "output_type": "stream",
     "text": [
      "5\n"
     ]
    }
   ],
   "source": [
    "score =0\n",
    "score +=5\n",
    "print(score)"
   ]
  },
  {
   "cell_type": "code",
   "execution_count": 55,
   "id": "b196b82a",
   "metadata": {},
   "outputs": [
    {
     "name": "stdout",
     "output_type": "stream",
     "text": [
      "-5\n"
     ]
    }
   ],
   "source": [
    "score =0\n",
    "score -=5\n",
    "print(score)"
   ]
  },
  {
   "cell_type": "code",
   "execution_count": 56,
   "id": "d5254324",
   "metadata": {},
   "outputs": [
    {
     "name": "stdout",
     "output_type": "stream",
     "text": [
      "your score is 0, your height is 1.8, you are winning is True\n"
     ]
    }
   ],
   "source": [
    "\n",
    "# F-string\n",
    "\n",
    "score = 0 \n",
    "height =1.8\n",
    "isWinning = True\n",
    "\n",
    "print(f\"your score is {score}, your height is {height}, you are winning is {isWinning}\")"
   ]
  },
  {
   "cell_type": "code",
   "execution_count": 60,
   "id": "c2b79b2e",
   "metadata": {},
   "outputs": [
    {
     "name": "stdout",
     "output_type": "stream",
     "text": [
      "What is your current age?25\n",
      "you have 23725 days, 3380 weeks, 780 months left\n"
     ]
    }
   ],
   "source": [
    "# 🚨 Don't change the code below 👇\n",
    "age = input(\"What is your current age?\")\n",
    "\n",
    "age_as_int = int(age)\n",
    "years_remaining = 90-age_as_int\n",
    "days_remaining = years_remaining *365\n",
    "weeks_remaining = years_remaining *52\n",
    "months_remaining = years_remaining *12\n",
    "\n",
    "message = f\"you have {days_remaining} days, {weeks_remaining} weeks, {months_remaining} months left\"\n",
    "\n",
    "print(message)"
   ]
  },
  {
   "cell_type": "code",
   "execution_count": 61,
   "id": "04d18ac9",
   "metadata": {},
   "outputs": [
    {
     "name": "stdout",
     "output_type": "stream",
     "text": [
      "6.0\n"
     ]
    }
   ],
   "source": [
    "print(6 + 4 / 2 - (1 * 2))"
   ]
  },
  {
   "cell_type": "code",
   "execution_count": 63,
   "id": "81a572e6",
   "metadata": {},
   "outputs": [
    {
     "data": {
      "text/plain": [
       "2.5"
      ]
     },
     "execution_count": 63,
     "metadata": {},
     "output_type": "execute_result"
    }
   ],
   "source": [
    "a = int(\"5\") / int(2.7)\n",
    "a"
   ]
  },
  {
   "cell_type": "code",
   "execution_count": null,
   "id": "4146a49d",
   "metadata": {},
   "outputs": [],
   "source": []
  }
 ],
 "metadata": {
  "kernelspec": {
   "display_name": "Python 3",
   "language": "python",
   "name": "python3"
  },
  "language_info": {
   "codemirror_mode": {
    "name": "ipython",
    "version": 3
   },
   "file_extension": ".py",
   "mimetype": "text/x-python",
   "name": "python",
   "nbconvert_exporter": "python",
   "pygments_lexer": "ipython3",
   "version": "3.8.8"
  }
 },
 "nbformat": 4,
 "nbformat_minor": 5
}
