{
 "cells": [
  {
   "cell_type": "markdown",
   "id": "ef967829",
   "metadata": {},
   "source": [
    "**Python project 4 -Rock paper scissors**"
   ]
  },
  {
   "cell_type": "markdown",
   "id": "85196016",
   "metadata": {},
   "source": [
    "**RULES-\n",
    "*0) Rock wins against scissors  \n",
    "2)scissor wins against papers  \n",
    "1)paper wins against rock**"
   ]
  },
  {
   "cell_type": "code",
   "execution_count": 2,
   "id": "94cf4bfd",
   "metadata": {},
   "outputs": [
    {
     "name": "stdout",
     "output_type": "stream",
     "text": [
      "\n",
      "    _______\n",
      "---'   ____)\n",
      "      (_____)\n",
      "      (_____)\n",
      "      (____)\n",
      "---.__(___)\n",
      "\n",
      "\n",
      "    _______\n",
      "---'   ____)____\n",
      "          ______)\n",
      "          _______)\n",
      "         _______)\n",
      "---.__________)\n",
      "\n",
      "\n",
      "    _______\n",
      "---'   ____)____\n",
      "          ______)\n",
      "       __________)\n",
      "      (____)\n",
      "---.__(___)\n",
      "\n"
     ]
    }
   ],
   "source": [
    "rock = '''\n",
    "    _______\n",
    "---'   ____)\n",
    "      (_____)\n",
    "      (_____)\n",
    "      (____)\n",
    "---.__(___)\n",
    "'''\n",
    "\n",
    "paper = '''\n",
    "    _______\n",
    "---'   ____)____\n",
    "          ______)\n",
    "          _______)\n",
    "         _______)\n",
    "---.__________)\n",
    "'''\n",
    "\n",
    "scissors = '''\n",
    "    _______\n",
    "---'   ____)____\n",
    "          ______)\n",
    "       __________)\n",
    "      (____)\n",
    "---.__(___)\n",
    "'''\n",
    "\n",
    "#Write your code below this line 👇\n",
    "print(rock)\n",
    "print(paper)\n",
    "print(scissors)"
   ]
  },
  {
   "cell_type": "code",
   "execution_count": 33,
   "id": "12d7cb2a",
   "metadata": {},
   "outputs": [
    {
     "name": "stdout",
     "output_type": "stream",
     "text": [
      "what do you want to choose? type 0 for rock, 1 for paper and 2 for scissors 0\n",
      "\n",
      "    _______\n",
      "---'   ____)\n",
      "      (_____)\n",
      "      (_____)\n",
      "      (____)\n",
      "---.__(___)\n",
      "\n",
      "computer chose:\n",
      "\n",
      "    _______\n",
      "---'   ____)\n",
      "      (_____)\n",
      "      (_____)\n",
      "      (____)\n",
      "---.__(___)\n",
      "\n",
      "its a draw\n"
     ]
    }
   ],
   "source": [
    "import random\n",
    "\n",
    "game_images = [rock, paper, scissors]\n",
    "user_choice = int(input(\"what do you want to choose? type 0 for rock, 1 for paper and 2 for scissors \"))\n",
    "\n",
    "\n",
    "if user_choice >=3 or user_choice <0:\n",
    "    print(\"you typed invalid number\")\n",
    "else:\n",
    "    print(game_images[computer_choice])\n",
    "\n",
    "computer_choice = random.randint(0,2)\n",
    "print(f\"computer chose:\")\n",
    "print(game_images[user_choice])\n",
    "\n",
    "if user_choice ==0 and computer_choice ==2:\n",
    "    print(\"you win\")\n",
    "elif computer_choice ==0 and user_choice ==2:\n",
    "    print(\"you win\")\n",
    "elif computer_choice > user_choice:\n",
    "    print(\"computer wins or you lose\")\n",
    "elif user_choice > computer_choice:\n",
    "    print(\"you win\")\n",
    "elif computer_choice == user_choice:\n",
    "    print(\"its a draw\")\n",
    "elif user_choice >=3 or user_choice <0:\n",
    "    print(\"you typed invalid number\")\n",
    "\n"
   ]
  },
  {
   "cell_type": "code",
   "execution_count": 34,
   "id": "01d37bfb",
   "metadata": {},
   "outputs": [
    {
     "name": "stdout",
     "output_type": "stream",
     "text": [
      "what do you want to choose? type 0 for rock, 1 for paper and 2 for scissors 1\n",
      "\n",
      "    _______\n",
      "---'   ____)\n",
      "      (_____)\n",
      "      (_____)\n",
      "      (____)\n",
      "---.__(___)\n",
      "\n",
      "computer chose:\n",
      "\n",
      "    _______\n",
      "---'   ____)____\n",
      "          ______)\n",
      "          _______)\n",
      "         _______)\n",
      "---.__________)\n",
      "\n",
      "you win\n"
     ]
    }
   ],
   "source": [
    "import random\n",
    "\n",
    "game_images = [rock, paper, scissors]\n",
    "user_choice = int(input(\"what do you want to choose? type 0 for rock, 1 for paper and 2 for scissors \"))\n",
    "\n",
    "\n",
    "if user_choice >=3 or user_choice <0:\n",
    "    print(\"you typed invalid number\")\n",
    "else:\n",
    "    print(game_images[computer_choice])\n",
    "\n",
    "computer_choice = random.randint(0,2)\n",
    "print(f\"computer chose:\")\n",
    "print(game_images[user_choice])\n",
    "\n",
    "if user_choice ==0 and computer_choice ==2:\n",
    "    print(\"you win\")\n",
    "elif computer_choice ==0 and user_choice ==2:\n",
    "    print(\"you win\")\n",
    "elif computer_choice > user_choice:\n",
    "    print(\"computer wins or you lose\")\n",
    "elif user_choice > computer_choice:\n",
    "    print(\"you win\")\n",
    "elif computer_choice == user_choice:\n",
    "    print(\"its a draw\")\n",
    "elif user_choice >=3 or user_choice <0:\n",
    "    print(\"you typed invalid number\")\n"
   ]
  },
  {
   "cell_type": "code",
   "execution_count": 36,
   "id": "83f7693d",
   "metadata": {},
   "outputs": [
    {
     "name": "stdout",
     "output_type": "stream",
     "text": [
      "what do you want to choose? type 0 for rock, 1 for paper and 2 for scissors 2\n",
      "\n",
      "    _______\n",
      "---'   ____)____\n",
      "          ______)\n",
      "          _______)\n",
      "         _______)\n",
      "---.__________)\n",
      "\n",
      "computer chose:\n",
      "\n",
      "    _______\n",
      "---'   ____)____\n",
      "          ______)\n",
      "       __________)\n",
      "      (____)\n",
      "---.__(___)\n",
      "\n",
      "its a draw\n"
     ]
    }
   ],
   "source": [
    "import random\n",
    "\n",
    "game_images = [rock, paper, scissors]\n",
    "user_choice = int(input(\"what do you want to choose? type 0 for rock, 1 for paper and 2 for scissors \"))\n",
    "\n",
    "\n",
    "if user_choice >=3 or user_choice <0:\n",
    "    print(\"you typed invalid number\")\n",
    "else:\n",
    "    print(game_images[computer_choice])\n",
    "\n",
    "computer_choice = random.randint(0,2)\n",
    "print(f\"computer chose:\")\n",
    "print(game_images[user_choice])\n",
    "\n",
    "if user_choice ==0 and computer_choice ==2:\n",
    "    print(\"you win\")\n",
    "elif computer_choice ==0 and user_choice ==2:\n",
    "    print(\"you win\")\n",
    "elif computer_choice > user_choice:\n",
    "    print(\"computer wins or you lose\")\n",
    "elif user_choice > computer_choice:\n",
    "    print(\"you win\")\n",
    "elif computer_choice == user_choice:\n",
    "    print(\"its a draw\")\n",
    "elif user_choice >=3 or user_choice <0:\n",
    "    print(\"you typed invalid number\")\n"
   ]
  },
  {
   "cell_type": "code",
   "execution_count": 37,
   "id": "b8675514",
   "metadata": {},
   "outputs": [
    {
     "name": "stdout",
     "output_type": "stream",
     "text": [
      "what do you want to choose? type 0 for rock, 1 for paper and 2 for scissors 3\n",
      "you typed invalid number\n",
      "computer chose:\n"
     ]
    },
    {
     "ename": "IndexError",
     "evalue": "list index out of range",
     "output_type": "error",
     "traceback": [
      "\u001b[1;31m---------------------------------------------------------------------------\u001b[0m",
      "\u001b[1;31mIndexError\u001b[0m                                Traceback (most recent call last)",
      "\u001b[1;32m<ipython-input-37-4c1ce47eb9dd>\u001b[0m in \u001b[0;36m<module>\u001b[1;34m\u001b[0m\n\u001b[0;32m     12\u001b[0m \u001b[0mcomputer_choice\u001b[0m \u001b[1;33m=\u001b[0m \u001b[0mrandom\u001b[0m\u001b[1;33m.\u001b[0m\u001b[0mrandint\u001b[0m\u001b[1;33m(\u001b[0m\u001b[1;36m0\u001b[0m\u001b[1;33m,\u001b[0m\u001b[1;36m2\u001b[0m\u001b[1;33m)\u001b[0m\u001b[1;33m\u001b[0m\u001b[1;33m\u001b[0m\u001b[0m\n\u001b[0;32m     13\u001b[0m \u001b[0mprint\u001b[0m\u001b[1;33m(\u001b[0m\u001b[1;34mf\"computer chose:\"\u001b[0m\u001b[1;33m)\u001b[0m\u001b[1;33m\u001b[0m\u001b[1;33m\u001b[0m\u001b[0m\n\u001b[1;32m---> 14\u001b[1;33m \u001b[0mprint\u001b[0m\u001b[1;33m(\u001b[0m\u001b[0mgame_images\u001b[0m\u001b[1;33m[\u001b[0m\u001b[0muser_choice\u001b[0m\u001b[1;33m]\u001b[0m\u001b[1;33m)\u001b[0m\u001b[1;33m\u001b[0m\u001b[1;33m\u001b[0m\u001b[0m\n\u001b[0m\u001b[0;32m     15\u001b[0m \u001b[1;33m\u001b[0m\u001b[0m\n\u001b[0;32m     16\u001b[0m \u001b[1;32mif\u001b[0m \u001b[0muser_choice\u001b[0m \u001b[1;33m==\u001b[0m\u001b[1;36m0\u001b[0m \u001b[1;32mand\u001b[0m \u001b[0mcomputer_choice\u001b[0m \u001b[1;33m==\u001b[0m\u001b[1;36m2\u001b[0m\u001b[1;33m:\u001b[0m\u001b[1;33m\u001b[0m\u001b[1;33m\u001b[0m\u001b[0m\n",
      "\u001b[1;31mIndexError\u001b[0m: list index out of range"
     ]
    }
   ],
   "source": [
    "import random\n",
    "\n",
    "game_images = [rock, paper, scissors]\n",
    "user_choice = int(input(\"what do you want to choose? type 0 for rock, 1 for paper and 2 for scissors \"))\n",
    "\n",
    "\n",
    "if user_choice >=3 or user_choice <0:\n",
    "    print(\"you typed invalid number\")\n",
    "else:\n",
    "    print(game_images[computer_choice])\n",
    "\n",
    "computer_choice = random.randint(0,2)\n",
    "print(f\"computer chose:\")\n",
    "print(game_images[user_choice])\n",
    "\n",
    "if user_choice ==0 and computer_choice ==2:\n",
    "    print(\"you win\")\n",
    "elif computer_choice ==0 and user_choice ==2:\n",
    "    print(\"you win\")\n",
    "elif computer_choice > user_choice:\n",
    "    print(\"computer wins or you lose\")\n",
    "elif user_choice > computer_choice:\n",
    "    print(\"you win\")\n",
    "elif computer_choice == user_choice:\n",
    "    print(\"its a draw\")\n",
    "elif user_choice >=3 or user_choice <0:\n",
    "    print(\"you typed invalid number\")\n"
   ]
  },
  {
   "cell_type": "code",
   "execution_count": null,
   "id": "e5f4cb8e",
   "metadata": {},
   "outputs": [],
   "source": []
  },
  {
   "cell_type": "code",
   "execution_count": null,
   "id": "97bef4d2",
   "metadata": {},
   "outputs": [],
   "source": []
  },
  {
   "cell_type": "code",
   "execution_count": null,
   "id": "9a1d4efc",
   "metadata": {},
   "outputs": [],
   "source": []
  }
 ],
 "metadata": {
  "kernelspec": {
   "display_name": "Python 3",
   "language": "python",
   "name": "python3"
  },
  "language_info": {
   "codemirror_mode": {
    "name": "ipython",
    "version": 3
   },
   "file_extension": ".py",
   "mimetype": "text/x-python",
   "name": "python",
   "nbconvert_exporter": "python",
   "pygments_lexer": "ipython3",
   "version": "3.8.8"
  }
 },
 "nbformat": 4,
 "nbformat_minor": 5
}
