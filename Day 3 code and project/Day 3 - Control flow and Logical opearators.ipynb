{
 "cells": [
  {
   "cell_type": "markdown",
   "id": "f11042e4",
   "metadata": {},
   "source": [
    "**Day 3 - Conditional statements, code blocks and scope and Logical opearators**"
   ]
  },
  {
   "cell_type": "markdown",
   "id": "427c2d58",
   "metadata": {},
   "source": [
    "**if - else statement**"
   ]
  },
  {
   "cell_type": "code",
   "execution_count": 4,
   "id": "e01b5ccd",
   "metadata": {},
   "outputs": [
    {
     "name": "stdout",
     "output_type": "stream",
     "text": [
      "continue\n"
     ]
    }
   ],
   "source": [
    "# control flow- if/else statement \n",
    "# example - bath tub\n",
    "water_level =50\n",
    "if water_level > 80:\n",
    "    print(\"Drain water\")\n",
    "else:\n",
    "    print(\"continue\")"
   ]
  },
  {
   "cell_type": "code",
   "execution_count": 5,
   "id": "e8deceb4",
   "metadata": {},
   "outputs": [
    {
     "name": "stdout",
     "output_type": "stream",
     "text": [
      "welcome to the rollercoaster!\n",
      "what is your height in cm? 150\n",
      "you can ride the rollercoaster\n"
     ]
    }
   ],
   "source": [
    "#tickets\n",
    "\n",
    "print(\"welcome to the rollercoaster!\")\n",
    "height = int(input(\"what is your height in cm? \"))\n",
    "\n",
    "if height > 120:\n",
    "    print(\"you can ride the rollercoaster\")\n",
    "else:\n",
    "    print(\"you cannot ride the rollercoaster because you are short\")"
   ]
  },
  {
   "cell_type": "code",
   "execution_count": 6,
   "id": "e60ffc6d",
   "metadata": {},
   "outputs": [
    {
     "name": "stdout",
     "output_type": "stream",
     "text": [
      "welcome to the rollercoaster!\n",
      "what is your height in cm? 100\n",
      "you cannot ride the rollercoaster because you are short\n"
     ]
    }
   ],
   "source": [
    "#tickets\n",
    "\n",
    "print(\"welcome to the rollercoaster!\")\n",
    "height = int(input(\"what is your height in cm? \"))\n",
    "\n",
    "if height > 120:\n",
    "    print(\"you can ride the rollercoaster\")\n",
    "else:\n",
    "    print(\"you cannot ride the rollercoaster because you are short\")"
   ]
  },
  {
   "cell_type": "code",
   "execution_count": 18,
   "id": "df154ede",
   "metadata": {},
   "outputs": [
    {
     "name": "stdout",
     "output_type": "stream",
     "text": [
      "welcome to the rollercoaster!\n",
      "what is your height in cm? 119\n",
      "you cannot ride the rollercoaster because you are short\n"
     ]
    }
   ],
   "source": [
    "#tickets\n",
    "\n",
    "print(\"welcome to the rollercoaster!\")\n",
    "height = int(input(\"what is your height in cm? \"))\n",
    "\n",
    "if height >= 120:\n",
    "    print(\"you can ride the rollercoaster\")\n",
    "else:\n",
    "    print(\"you cannot ride the rollercoaster because you are short\")"
   ]
  },
  {
   "cell_type": "code",
   "execution_count": 11,
   "id": "d3a3bd8b",
   "metadata": {},
   "outputs": [
    {
     "name": "stdout",
     "output_type": "stream",
     "text": [
      "welcome to the rollercoaster!\n",
      "what is your height in cm? 121\n",
      "you cannot ride the rollercoaster because you are short\n"
     ]
    }
   ],
   "source": [
    "#tickets\n",
    "\n",
    "print(\"welcome to the rollercoaster!\")\n",
    "height = int(input(\"what is your height in cm? \"))\n",
    "\n",
    "if height == 120:\n",
    "    print(\"you can ride the rollercoaster\")\n",
    "else:\n",
    "    print(\"you cannot ride the rollercoaster because you are short\")"
   ]
  },
  {
   "cell_type": "code",
   "execution_count": 16,
   "id": "90fa10ee",
   "metadata": {},
   "outputs": [
    {
     "name": "stdout",
     "output_type": "stream",
     "text": [
      "welcome to the rollercoaster!\n",
      "what is your height in cm? 25\n",
      "you can ride the rollercoaster\n"
     ]
    }
   ],
   "source": [
    "#tickets\n",
    "\n",
    "print(\"welcome to the rollercoaster!\")\n",
    "height = int(input(\"what is your height in cm? \"))\n",
    "\n",
    "if height != 120:\n",
    "    print(\"you can ride the rollercoaster\")\n",
    "else:\n",
    "    print(\"you cannot ride the rollercoaster because you are short\")"
   ]
  },
  {
   "cell_type": "code",
   "execution_count": 15,
   "id": "ab1c939b",
   "metadata": {},
   "outputs": [
    {
     "name": "stdout",
     "output_type": "stream",
     "text": [
      "welcome to the rollercoaster!\n",
      "what is your height in cm? 120\n",
      "you cannot ride the rollercoaster because you are short\n"
     ]
    }
   ],
   "source": [
    "#tickets\n",
    "\n",
    "print(\"welcome to the rollercoaster!\")\n",
    "height = int(input(\"what is your height in cm? \"))\n",
    "\n",
    "if height != 120:\n",
    "    print(\"you can ride the rollercoaster\")\n",
    "else:\n",
    "    print(\"you cannot ride the rollercoaster because you are short\")"
   ]
  },
  {
   "cell_type": "code",
   "execution_count": 26,
   "id": "50c85cea",
   "metadata": {},
   "outputs": [
    {
     "data": {
      "text/plain": [
       "1"
      ]
     },
     "execution_count": 26,
     "metadata": {},
     "output_type": "execute_result"
    }
   ],
   "source": [
    "#coding exercise\n",
    "\n",
    "7 % 2 \n"
   ]
  },
  {
   "cell_type": "code",
   "execution_count": 27,
   "id": "7a75fc10",
   "metadata": {},
   "outputs": [
    {
     "data": {
      "text/plain": [
       "3"
      ]
     },
     "execution_count": 27,
     "metadata": {},
     "output_type": "execute_result"
    }
   ],
   "source": [
    "7 % 4 # modulus gives the remainder"
   ]
  },
  {
   "cell_type": "code",
   "execution_count": 32,
   "id": "5a550a44",
   "metadata": {},
   "outputs": [
    {
     "name": "stdout",
     "output_type": "stream",
     "text": [
      "Which number do you want to check? 4\n",
      "this is even number\n"
     ]
    }
   ],
   "source": [
    "\n",
    "# 🚨 Don't change the code below 👇\n",
    "number = int(input(\"Which number do you want to check? \"))\n",
    "# 🚨 Don't change the code above 👆\n",
    "\n",
    "#Write your code below this line 👇\n",
    "\n",
    "if number % 2 ==0:\n",
    "    print(\"this is even number\")\n",
    "else:\n",
    "    print(\"this is odd number\")"
   ]
  },
  {
   "cell_type": "code",
   "execution_count": 33,
   "id": "939202b3",
   "metadata": {},
   "outputs": [
    {
     "name": "stdout",
     "output_type": "stream",
     "text": [
      "Which number do you want to check? 5\n",
      "this is odd number\n"
     ]
    }
   ],
   "source": [
    "\n",
    "# 🚨 Don't change the code below 👇\n",
    "number = int(input(\"Which number do you want to check? \"))\n",
    "# 🚨 Don't change the code above 👆\n",
    "\n",
    "#Write your code below this line 👇\n",
    "\n",
    "if number % 2 ==0:\n",
    "    print(\"this is even number\")\n",
    "else:\n",
    "    print(\"this is odd number\")"
   ]
  },
  {
   "cell_type": "markdown",
   "id": "61926a4c",
   "metadata": {},
   "source": [
    "**nested if and elif statements**"
   ]
  },
  {
   "cell_type": "code",
   "execution_count": 37,
   "id": "f8cd9ee5",
   "metadata": {},
   "outputs": [
    {
     "name": "stdout",
     "output_type": "stream",
     "text": [
      "welcome to the rollercoaster!\n",
      "what is your height in cm? 121\n",
      "you can ride the rollercoaster\n",
      "what is your age?25\n",
      "please pay $12\n"
     ]
    }
   ],
   "source": [
    "#tickets\n",
    "\n",
    "print(\"welcome to the rollercoaster!\")\n",
    "height = int(input(\"what is your height in cm? \"))\n",
    "\n",
    "if height >= 120:\n",
    "    print(\"you can ride the rollercoaster\")\n",
    "    age = int(input(\"what is your age?\"))\n",
    "    if age< 12:\n",
    "        print(\"please pay $5\")\n",
    "    elif age<= 18:\n",
    "        print(\"please pay $7\")\n",
    "    else:\n",
    "        print(\"please pay $12\")\n",
    "else:\n",
    "    print(\"you cannot ride the rollercoaster because you are short\")"
   ]
  },
  {
   "cell_type": "code",
   "execution_count": 38,
   "id": "481fcb8e",
   "metadata": {},
   "outputs": [
    {
     "name": "stdout",
     "output_type": "stream",
     "text": [
      "welcome to the rollercoaster!\n",
      "what is your height in cm? 100\n",
      "you cannot ride the rollercoaster because you are short\n"
     ]
    }
   ],
   "source": [
    "#tickets\n",
    "\n",
    "print(\"welcome to the rollercoaster!\")\n",
    "height = int(input(\"what is your height in cm? \"))\n",
    "\n",
    "if height >= 120:\n",
    "    print(\"you can ride the rollercoaster\")\n",
    "    age = int(input(\"what is your age?\"))\n",
    "    if age< 12:\n",
    "        print(\"please pay $5\")\n",
    "    elif age<= 18:\n",
    "        print(\"please pay $7\")\n",
    "    else:\n",
    "        print(\"please pay $12\")\n",
    "else:\n",
    "    print(\"you cannot ride the rollercoaster because you are short\")"
   ]
  },
  {
   "cell_type": "code",
   "execution_count": 40,
   "id": "0f52274f",
   "metadata": {},
   "outputs": [
    {
     "name": "stdout",
     "output_type": "stream",
     "text": [
      "enter your height in m: 1.5\n",
      "enter your weight in kg: 70\n",
      "your bmi is 31, you are obese.\n"
     ]
    }
   ],
   "source": [
    "#coding exercise\n",
    "\n",
    "# 🚨 Don't change the code below 👇\n",
    "height = float(input(\"enter your height in m: \"))\n",
    "weight = float(input(\"enter your weight in kg: \"))\n",
    "# 🚨 Don't change the code above 👆\n",
    "\n",
    "#Write your code below this line 👇\n",
    "\n",
    "bmi = round(weight/ height **2)\n",
    "if bmi<18.5:\n",
    "    print(f\"your bmi is {bmi}, you are under weight.\")\n",
    "elif bmi<25:\n",
    "    print(f\"your bmi is {bmi}, you have a Normal weight.\")\n",
    "elif bmi<30:\n",
    "    print(f\"your bmi is {bmi}, you are over weight.\")\n",
    "elif bmi<35:\n",
    "    print(f\"your bmi is {bmi}, you are obese.\")\n",
    "else:\n",
    "    print(f\"your bmi is {bmi}, you are clinically obese.\")\n"
   ]
  },
  {
   "cell_type": "code",
   "execution_count": 41,
   "id": "e3cdd425",
   "metadata": {},
   "outputs": [
    {
     "name": "stdout",
     "output_type": "stream",
     "text": [
      "enter your height in m: 2\n",
      "enter your weight in kg: 80\n",
      "your bmi is 20, you have a Normal weight.\n"
     ]
    }
   ],
   "source": [
    "#coding exercise\n",
    "\n",
    "# 🚨 Don't change the code below 👇\n",
    "height = float(input(\"enter your height in m: \"))\n",
    "weight = float(input(\"enter your weight in kg: \"))\n",
    "# 🚨 Don't change the code above 👆\n",
    "\n",
    "#Write your code below this line 👇\n",
    "\n",
    "bmi = round(weight/ height **2)\n",
    "if bmi<18.5:\n",
    "    print(f\"your bmi is {bmi}, you are under weight.\")\n",
    "elif bmi<25:\n",
    "    print(f\"your bmi is {bmi}, you have a Normal weight.\")\n",
    "elif bmi<30:\n",
    "    print(f\"your bmi is {bmi}, you are over weight.\")\n",
    "elif bmi<35:\n",
    "    print(f\"your bmi is {bmi}, you are obese.\")\n",
    "else:\n",
    "    print(f\"your bmi is {bmi}, you are clinically obese.\")"
   ]
  },
  {
   "cell_type": "code",
   "execution_count": 43,
   "id": "4b7558e1",
   "metadata": {},
   "outputs": [
    {
     "name": "stdout",
     "output_type": "stream",
     "text": [
      "your bmi is 25, you are over weight.\n"
     ]
    }
   ],
   "source": [
    "bmi = 25\n",
    "if bmi<18.5:\n",
    "    print(f\"your bmi is {bmi}, you are under weight.\")\n",
    "elif bmi<25:\n",
    "    print(f\"your bmi is {bmi}, you have a Normal weight.\")\n",
    "elif bmi<30:\n",
    "    print(f\"your bmi is {bmi}, you are over weight.\")\n",
    "elif bmi<35:\n",
    "    print(f\"your bmi is {bmi}, you are obese.\")\n",
    "else:\n",
    "    print(f\"your bmi is {bmi}, you are clinically obese.\")"
   ]
  },
  {
   "cell_type": "code",
   "execution_count": 45,
   "id": "4c99e099",
   "metadata": {},
   "outputs": [
    {
     "name": "stdout",
     "output_type": "stream",
     "text": [
      "Which year do you want to check? 2020\n",
      "leap year\n"
     ]
    }
   ],
   "source": [
    "# coding exercise - Leap Year exercise\n",
    "# 🚨 Don't change the code below 👇\n",
    "year = int(input(\"Which year do you want to check? \"))\n",
    "# 🚨 Don't change the code above 👆\n",
    "\n",
    "#Write your code below this line 👇\n",
    "\n",
    "if year % 4 ==0:\n",
    "    if year % 100 ==0:\n",
    "        if year % 400 ==0:\n",
    "            print(\"leap year\")\n",
    "        else:\n",
    "            print(\"not a leap year\")\n",
    "    else:\n",
    "        print(\"leap year\")\n",
    "else:\n",
    "    print(\"not leap year\")\n"
   ]
  },
  {
   "cell_type": "code",
   "execution_count": 46,
   "id": "c56c4d54",
   "metadata": {},
   "outputs": [
    {
     "name": "stdout",
     "output_type": "stream",
     "text": [
      "Which year do you want to check? 2022\n",
      "not leap year\n"
     ]
    }
   ],
   "source": [
    "# coding exercise - Leap Year exercise\n",
    "# 🚨 Don't change the code below 👇\n",
    "year = int(input(\"Which year do you want to check? \"))\n",
    "# 🚨 Don't change the code above 👆\n",
    "\n",
    "#Write your code below this line 👇\n",
    "\n",
    "if year % 4 ==0:\n",
    "    if year % 100 ==0:\n",
    "        if year % 400 ==0:\n",
    "            print(\"leap year\")\n",
    "        else:\n",
    "            print(\"not a leap year\")\n",
    "    else:\n",
    "        print(\"leap year\")\n",
    "else:\n",
    "    print(\"not leap year\")\n"
   ]
  },
  {
   "cell_type": "markdown",
   "id": "e1e09c69",
   "metadata": {},
   "source": [
    "**multiple if statements**"
   ]
  },
  {
   "cell_type": "code",
   "execution_count": 49,
   "id": "a5b8895a",
   "metadata": {},
   "outputs": [
    {
     "name": "stdout",
     "output_type": "stream",
     "text": [
      "welcome to the rollercoaster!\n",
      "what is your height in cm? 120\n",
      "you can ride the rollercoaster\n",
      "what is your age?25\n",
      "Adult tickets are $12\n",
      "Do you want a photo to be taken? Y or N. Y\n",
      "your final bill is 15\n"
     ]
    }
   ],
   "source": [
    "#tickets\n",
    "\n",
    "print(\"welcome to the rollercoaster!\")\n",
    "height = int(input(\"what is your height in cm? \"))\n",
    "bill = 0\n",
    "if height >= 120:\n",
    "    print(\"you can ride the rollercoaster\")\n",
    "    age = int(input(\"what is your age?\"))\n",
    "    if age< 12:\n",
    "        bill = 5\n",
    "        print(\"child tickets are $5\")\n",
    "    elif age<= 18:\n",
    "        bill = 7\n",
    "        print(\"youth tickets are $7\")\n",
    "    else:\n",
    "        bill = 12\n",
    "        print(\"Adult tickets are $12\")\n",
    "    \n",
    "    wants_photo = input(\"Do you want a photo to be taken? Y or N. \")\n",
    "    if wants_photo == \"Y\":\n",
    "        bill = bill + 3  # adding 3$ to bill\n",
    "        #or it can be written as bill +=3\n",
    "    print(f\"your final bill is {bill}\")\n",
    "    \n",
    "else:\n",
    "    print(\"you cannot ride the rollercoaster because you are short\")"
   ]
  },
  {
   "cell_type": "code",
   "execution_count": 51,
   "id": "796531cb",
   "metadata": {},
   "outputs": [
    {
     "name": "stdout",
     "output_type": "stream",
     "text": [
      "Welcome to Python Pizza Deliveries!\n",
      "What size pizza do you want? S, M, or L L\n",
      "Do you want pepperoni? Y or N Y\n",
      "Do you want extra cheese? Y or N Y\n",
      "your final bill is $29\n"
     ]
    }
   ],
   "source": [
    "#pizza order exercise\n",
    "# 🚨 Don't change the code below 👇\n",
    "print(\"Welcome to Python Pizza Deliveries!\")\n",
    "size = input(\"What size pizza do you want? S, M, or L \")\n",
    "add_pepperoni = input(\"Do you want pepperoni? Y or N \")\n",
    "extra_cheese = input(\"Do you want extra cheese? Y or N \")\n",
    "# 🚨 Don't change the code above 👆\n",
    "\n",
    "#Write your code below this line 👇\n",
    "bill =0\n",
    "\n",
    "if size == \"S\":\n",
    "    bill +=15\n",
    "elif size == \"M\":\n",
    "    bill +=20\n",
    "elif size == \"L\":\n",
    "    bill +=25\n",
    "\n",
    "if add_pepperoni == \"Y\":\n",
    "    if size == \"S\":\n",
    "        bill +=2\n",
    "    else:\n",
    "        bill +=3\n",
    "        \n",
    "if extra_cheese ==\"Y\":\n",
    "    bill +=1\n",
    "    \n",
    "print(f\"your final bill is ${bill}\")\n",
    "\n"
   ]
  },
  {
   "cell_type": "code",
   "execution_count": 52,
   "id": "01833155",
   "metadata": {},
   "outputs": [
    {
     "data": {
      "text/plain": [
       "True"
      ]
     },
     "execution_count": 52,
     "metadata": {},
     "output_type": "execute_result"
    }
   ],
   "source": [
    "# Logical opearors\n",
    "\n",
    "a=12\n",
    "a>10"
   ]
  },
  {
   "cell_type": "code",
   "execution_count": 53,
   "id": "9802bd1b",
   "metadata": {},
   "outputs": [
    {
     "data": {
      "text/plain": [
       "True"
      ]
     },
     "execution_count": 53,
     "metadata": {},
     "output_type": "execute_result"
    }
   ],
   "source": [
    "a =10\n",
    "a>9 and a< 12 "
   ]
  },
  {
   "cell_type": "code",
   "execution_count": 54,
   "id": "9e2955ba",
   "metadata": {},
   "outputs": [
    {
     "data": {
      "text/plain": [
       "True"
      ]
     },
     "execution_count": 54,
     "metadata": {},
     "output_type": "execute_result"
    }
   ],
   "source": [
    "a =10\n",
    "not a >15"
   ]
  },
  {
   "cell_type": "code",
   "execution_count": 55,
   "id": "e5de13c0",
   "metadata": {},
   "outputs": [
    {
     "name": "stdout",
     "output_type": "stream",
     "text": [
      "welcome to the rollercoaster!\n",
      "what is your height in cm? 120\n",
      "you can ride the rollercoaster\n",
      "what is your age?50\n",
      "everything is ok, have a free ride on us\n",
      "Do you want a photo to be taken? Y or N. Y\n",
      "your final bill is 3\n"
     ]
    }
   ],
   "source": [
    "#tickets\n",
    "\n",
    "print(\"welcome to the rollercoaster!\")\n",
    "height = int(input(\"what is your height in cm? \"))\n",
    "bill = 0\n",
    "if height >= 120:\n",
    "    print(\"you can ride the rollercoaster\")\n",
    "    age = int(input(\"what is your age?\"))\n",
    "    if age< 12:\n",
    "        bill = 5\n",
    "        print(\"child tickets are $5\")\n",
    "    elif age<= 18:\n",
    "        bill = 7\n",
    "        print(\"youth tickets are $7\")\n",
    "    elif age>=45 and age<=55:\n",
    "        print(\"everything is ok, have a free ride on us\")\n",
    "    else:\n",
    "        bill = 12\n",
    "        print(\"Adult tickets are $12\")\n",
    "    \n",
    "    wants_photo = input(\"Do you want a photo to be taken? Y or N. \")\n",
    "    if wants_photo == \"Y\":\n",
    "        bill = bill + 3  # adding 3$ to bill\n",
    "        #or it can be written as bill +=3\n",
    "    print(f\"your final bill is {bill}\")\n",
    "    \n",
    "else:\n",
    "    print(\"you cannot ride the rollercoaster because you are short\")"
   ]
  },
  {
   "cell_type": "code",
   "execution_count": 67,
   "id": "7e701702",
   "metadata": {},
   "outputs": [
    {
     "name": "stdout",
     "output_type": "stream",
     "text": [
      "Welcome to the Love Calculator!\n",
      "What is your name? \n",
      "SADU\n",
      "What is their name? \n",
      "ABHI\n",
      "your love_score is 10\n"
     ]
    }
   ],
   "source": [
    "# Love calculator exercise\n",
    "\n",
    "# 🚨 Don't change the code below 👇\n",
    "print(\"Welcome to the Love Calculator!\")\n",
    "name1 = input(\"What is your name? \\n\")\n",
    "name2 = input(\"What is their name? \\n\")\n",
    "# 🚨 Don't change the code above 👆\n",
    "\n",
    "#Write your code below this line 👇\n",
    "\n",
    "combined_string = name1+name2\n",
    "lower_case_string = combined_string.lower()\n",
    "t = lower_case_string.count(\"t\")\n",
    "r = lower_case_string.count(\"r\")\n",
    "u = lower_case_string.count(\"u\")\n",
    "e = lower_case_string.count(\"e\")\n",
    "\n",
    "true = t+r+u+e\n",
    "\n",
    "l = lower_case_string.count(\"l\")\n",
    "o = lower_case_string.count(\"o\")\n",
    "v = lower_case_string.count(\"v\")\n",
    "e = lower_case_string.count(\"e\")\n",
    "\n",
    "love = l+o+v+e\n",
    "\n",
    "love_score = int(str(true) + str(love))\n",
    "#int_score = int(love_score)\n",
    "if (love_score < 9) or (love_score > 90):\n",
    "    print(f\"your love score is {love_score}, you go together like coke and mentos\")\n",
    "elif (love_score >= 40) and (love_score <= 50):\n",
    "    print(f\"your love score is {love_score}, you are alright together\")\n",
    "else:\n",
    "    print(f\"your love_score is {love_score}\")"
   ]
  },
  {
   "cell_type": "code",
   "execution_count": null,
   "id": "34158238",
   "metadata": {},
   "outputs": [],
   "source": []
  },
  {
   "cell_type": "code",
   "execution_count": null,
   "id": "f70d28a4",
   "metadata": {},
   "outputs": [],
   "source": []
  },
  {
   "cell_type": "code",
   "execution_count": null,
   "id": "225bfe44",
   "metadata": {},
   "outputs": [],
   "source": []
  }
 ],
 "metadata": {
  "kernelspec": {
   "display_name": "Python 3",
   "language": "python",
   "name": "python3"
  },
  "language_info": {
   "codemirror_mode": {
    "name": "ipython",
    "version": 3
   },
   "file_extension": ".py",
   "mimetype": "text/x-python",
   "name": "python",
   "nbconvert_exporter": "python",
   "pygments_lexer": "ipython3",
   "version": "3.8.8"
  }
 },
 "nbformat": 4,
 "nbformat_minor": 5
}
