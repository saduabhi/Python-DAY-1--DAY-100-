{
 "cells": [
  {
   "cell_type": "markdown",
   "id": "29d3882e",
   "metadata": {},
   "source": [
    "**Python Project 5- create a password generator**"
   ]
  },
  {
   "cell_type": "code",
   "execution_count": 31,
   "id": "c2cc95d9",
   "metadata": {},
   "outputs": [
    {
     "name": "stdout",
     "output_type": "stream",
     "text": [
      "Welcome to the PyPassword Generator!\n",
      "How many letters would you like in your password?\n",
      "4\n",
      "How many symbols would you like?\n",
      "2\n",
      "How many numbers would you like?\n",
      "2\n",
      "YGrv%%28\n"
     ]
    }
   ],
   "source": [
    "#Password Generator Project\n",
    "import random\n",
    "letters = ['a', 'b', 'c', 'd', 'e', 'f', 'g', 'h', 'i', 'j', 'k', 'l', 'm', 'n', 'o', 'p', 'q', 'r', 's', 't', 'u', 'v', 'w', 'x', 'y', 'z', 'A', 'B', 'C', 'D', 'E', 'F', 'G', 'H', 'I', 'J', 'K', 'L', 'M', 'N', 'O', 'P', 'Q', 'R', 'S', 'T', 'U', 'V', 'W', 'X', 'Y', 'Z']\n",
    "numbers = ['0', '1', '2', '3', '4', '5', '6', '7', '8', '9']\n",
    "symbols = ['!', '#', '$', '%', '&', '(', ')', '*', '+']\n",
    "\n",
    "print(\"Welcome to the PyPassword Generator!\")\n",
    "nr_letters= int(input(\"How many letters would you like in your password?\\n\")) \n",
    "nr_symbols = int(input(f\"How many symbols would you like?\\n\"))\n",
    "nr_numbers = int(input(f\"How many numbers would you like?\\n\"))\n",
    "\n",
    "#Eazy Level - Order not randomised:\n",
    "#e.g. 4 letter, 2 symbol, 2 number = JduE&!91\n",
    "\n",
    "password = \"\"\n",
    "for char in range (1, nr_letters + 1):\n",
    "    random_character = random.choice(letters)\n",
    "    password += random_character\n",
    "    \n",
    "for char in range(1, nr_symbols + 1):\n",
    "    password += random.choice(symbols)\n",
    "    \n",
    "for char in range(1, nr_numbers +1):\n",
    "    password += random.choice(numbers)\n",
    "    \n",
    "    \n",
    "print(password)"
   ]
  },
  {
   "cell_type": "code",
   "execution_count": 32,
   "id": "309dbd10",
   "metadata": {},
   "outputs": [
    {
     "name": "stdout",
     "output_type": "stream",
     "text": [
      "Welcome to the PyPassword Generator!\n",
      "How many letters would you like in your password?\n",
      "4\n",
      "How many symbols would you like?\n",
      "2\n",
      "How many numbers would you like?\n",
      "2\n",
      "['P', 'j', 'D', 'L', '(', '(', '7', '2']\n"
     ]
    }
   ],
   "source": [
    "# Hard level\n",
    "\n",
    "\n",
    "#Password Generator Project\n",
    "import random\n",
    "letters = ['a', 'b', 'c', 'd', 'e', 'f', 'g', 'h', 'i', 'j', 'k', 'l', 'm', 'n', 'o', 'p', 'q', 'r', 's', 't', 'u', 'v', 'w', 'x', 'y', 'z', 'A', 'B', 'C', 'D', 'E', 'F', 'G', 'H', 'I', 'J', 'K', 'L', 'M', 'N', 'O', 'P', 'Q', 'R', 'S', 'T', 'U', 'V', 'W', 'X', 'Y', 'Z']\n",
    "numbers = ['0', '1', '2', '3', '4', '5', '6', '7', '8', '9']\n",
    "symbols = ['!', '#', '$', '%', '&', '(', ')', '*', '+']\n",
    "\n",
    "print(\"Welcome to the PyPassword Generator!\")\n",
    "nr_letters= int(input(\"How many letters would you like in your password?\\n\")) \n",
    "nr_symbols = int(input(f\"How many symbols would you like?\\n\"))\n",
    "nr_numbers = int(input(f\"How many numbers would you like?\\n\"))\n",
    "\n",
    "\n",
    "#Hard Level - Order of characters randomised:\n",
    "#e.g. 4 letter, 2 symbol, 2 number = g^2jk8&P\n",
    "\n",
    "password_list = []\n",
    "for char in range (1, nr_letters + 1):\n",
    "    password_list.append(random.choice(letters))\n",
    "for char in range(1, nr_symbols + 1):\n",
    "    password_list.append(random.choice(symbols))\n",
    "    \n",
    "for char in range(1, nr_numbers +1):\n",
    "    password_list.append(random.choice(numbers))\n",
    "    \n",
    "    \n",
    "print(password_list)"
   ]
  },
  {
   "cell_type": "code",
   "execution_count": 33,
   "id": "d5b81506",
   "metadata": {},
   "outputs": [
    {
     "name": "stdout",
     "output_type": "stream",
     "text": [
      "Welcome to the PyPassword Generator!\n",
      "How many letters would you like in your password?\n",
      "4\n",
      "How many symbols would you like?\n",
      "2\n",
      "How many numbers would you like?\n",
      "2\n",
      "['x', 'q', 'o', 'H', '!', '(', '3', '7']\n",
      "['7', '(', 'x', '3', 'o', '!', 'q', 'H']\n"
     ]
    }
   ],
   "source": [
    "# How to change the order of items in the list\n",
    "# Hard level\n",
    "\n",
    "\n",
    "#Password Generator Project\n",
    "import random\n",
    "letters = ['a', 'b', 'c', 'd', 'e', 'f', 'g', 'h', 'i', 'j', 'k', 'l', 'm', 'n', 'o', 'p', 'q', 'r', 's', 't', 'u', 'v', 'w', 'x', 'y', 'z', 'A', 'B', 'C', 'D', 'E', 'F', 'G', 'H', 'I', 'J', 'K', 'L', 'M', 'N', 'O', 'P', 'Q', 'R', 'S', 'T', 'U', 'V', 'W', 'X', 'Y', 'Z']\n",
    "numbers = ['0', '1', '2', '3', '4', '5', '6', '7', '8', '9']\n",
    "symbols = ['!', '#', '$', '%', '&', '(', ')', '*', '+']\n",
    "\n",
    "print(\"Welcome to the PyPassword Generator!\")\n",
    "nr_letters= int(input(\"How many letters would you like in your password?\\n\")) \n",
    "nr_symbols = int(input(f\"How many symbols would you like?\\n\"))\n",
    "nr_numbers = int(input(f\"How many numbers would you like?\\n\"))\n",
    "\n",
    "\n",
    "#Hard Level - Order of characters randomised:\n",
    "#e.g. 4 letter, 2 symbol, 2 number = g^2jk8&P\n",
    "\n",
    "password_list = []\n",
    "for char in range (1, nr_letters + 1):\n",
    "    password_list.append(random.choice(letters))\n",
    "for char in range(1, nr_symbols + 1):\n",
    "    password_list.append(random.choice(symbols))\n",
    "    \n",
    "for char in range(1, nr_numbers +1):\n",
    "    password_list.append(random.choice(numbers))\n",
    "    \n",
    "    \n",
    "print(password_list)\n",
    "random.shuffle(password_list)\n",
    "print(password_list)\n",
    "\n"
   ]
  },
  {
   "cell_type": "code",
   "execution_count": 34,
   "id": "ca9881ad",
   "metadata": {},
   "outputs": [
    {
     "name": "stdout",
     "output_type": "stream",
     "text": [
      "Welcome to the PyPassword Generator!\n",
      "How many letters would you like in your password?\n",
      "12\n",
      "How many symbols would you like?\n",
      "3\n",
      "How many numbers would you like?\n",
      "4\n",
      "['p', 'f', 'h', 'B', 'j', 'O', 'Q', 'Z', 'J', 't', 'm', 'b', '(', '%', '%', '9', '5', '3', '1']\n",
      "['(', '5', '3', 't', 'p', 'm', 'B', 'b', 'Q', '9', 'h', '%', 'J', 'j', 'f', 'O', '%', 'Z', '1']\n",
      "your password is: (53tpmBbQ9h%JjfO%Z1\n"
     ]
    }
   ],
   "source": [
    "# Now turning the password back into the **string\n",
    "\n",
    "# How to change the order of items in the list\n",
    "# Hard level\n",
    "\n",
    "\n",
    "#Password Generator Project\n",
    "import random\n",
    "letters = ['a', 'b', 'c', 'd', 'e', 'f', 'g', 'h', 'i', 'j', 'k', 'l', 'm', 'n', 'o', 'p', 'q', 'r', 's', 't', 'u', 'v', 'w', 'x', 'y', 'z', 'A', 'B', 'C', 'D', 'E', 'F', 'G', 'H', 'I', 'J', 'K', 'L', 'M', 'N', 'O', 'P', 'Q', 'R', 'S', 'T', 'U', 'V', 'W', 'X', 'Y', 'Z']\n",
    "numbers = ['0', '1', '2', '3', '4', '5', '6', '7', '8', '9']\n",
    "symbols = ['!', '#', '$', '%', '&', '(', ')', '*', '+']\n",
    "\n",
    "print(\"Welcome to the PyPassword Generator!\")\n",
    "nr_letters= int(input(\"How many letters would you like in your password?\\n\")) \n",
    "nr_symbols = int(input(f\"How many symbols would you like?\\n\"))\n",
    "nr_numbers = int(input(f\"How many numbers would you like?\\n\"))\n",
    "\n",
    "\n",
    "#Hard Level - Order of characters randomised:\n",
    "#e.g. 4 letter, 2 symbol, 2 number = g^2jk8&P\n",
    "\n",
    "password_list = []\n",
    "for char in range (1, nr_letters + 1):\n",
    "    password_list.append(random.choice(letters))\n",
    "for char in range(1, nr_symbols + 1):\n",
    "    password_list.append(random.choice(symbols))\n",
    "    \n",
    "for char in range(1, nr_numbers +1):\n",
    "    password_list.append(random.choice(numbers))\n",
    "    \n",
    "    \n",
    "print(password_list)\n",
    "random.shuffle(password_list)\n",
    "print(password_list)\n",
    "\n",
    "\n",
    "password =\"\"\n",
    "for char in password_list:\n",
    "    password +=char\n",
    "print(f\"your password is: {password}\")"
   ]
  },
  {
   "cell_type": "code",
   "execution_count": null,
   "id": "490adda9",
   "metadata": {},
   "outputs": [],
   "source": []
  },
  {
   "cell_type": "code",
   "execution_count": null,
   "id": "34edf06f",
   "metadata": {},
   "outputs": [],
   "source": []
  }
 ],
 "metadata": {
  "kernelspec": {
   "display_name": "Python 3 (ipykernel)",
   "language": "python",
   "name": "python3"
  },
  "language_info": {
   "codemirror_mode": {
    "name": "ipython",
    "version": 3
   },
   "file_extension": ".py",
   "mimetype": "text/x-python",
   "name": "python",
   "nbconvert_exporter": "python",
   "pygments_lexer": "ipython3",
   "version": "3.9.7"
  }
 },
 "nbformat": 4,
 "nbformat_minor": 5
}
