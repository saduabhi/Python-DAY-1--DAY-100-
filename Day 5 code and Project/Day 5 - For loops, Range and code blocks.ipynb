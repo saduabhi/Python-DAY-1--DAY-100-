{
 "cells": [
  {
   "cell_type": "markdown",
   "id": "e7d1a84d",
   "metadata": {},
   "source": [
    "**Day 5 - For loops, Range and code blocks**"
   ]
  },
  {
   "cell_type": "code",
   "execution_count": 1,
   "id": "2d3d602a",
   "metadata": {},
   "outputs": [
    {
     "name": "stdout",
     "output_type": "stream",
     "text": [
      "apple\n",
      "banana\n",
      "mango\n"
     ]
    }
   ],
   "source": [
    "fruits = [\"apple\", \"banana\", \"mango\"]\n",
    "\n",
    "for fruit in fruits:\n",
    "    print(fruit)\n",
    "\n"
   ]
  },
  {
   "cell_type": "code",
   "execution_count": 2,
   "id": "f5b4012c",
   "metadata": {},
   "outputs": [
    {
     "name": "stdout",
     "output_type": "stream",
     "text": [
      "apple\n",
      "apple pie\n",
      "banana\n",
      "banana pie\n",
      "mango\n",
      "mango pie\n"
     ]
    }
   ],
   "source": [
    "fruits = [\"apple\", \"banana\", \"mango\"]\n",
    "\n",
    "for fruit in fruits:\n",
    "    print(fruit)\n",
    "    print(fruit  + \" pie\")"
   ]
  },
  {
   "cell_type": "code",
   "execution_count": 3,
   "id": "931ab8e5",
   "metadata": {},
   "outputs": [
    {
     "name": "stdout",
     "output_type": "stream",
     "text": [
      "apple\n",
      "apple pie\n",
      "['apple', 'banana', 'mango']\n",
      "banana\n",
      "banana pie\n",
      "['apple', 'banana', 'mango']\n",
      "mango\n",
      "mango pie\n",
      "['apple', 'banana', 'mango']\n"
     ]
    }
   ],
   "source": [
    "fruits = [\"apple\", \"banana\", \"mango\"]\n",
    "\n",
    "for fruit in fruits:\n",
    "    print(fruit)\n",
    "    print(fruit  + \" pie\")\n",
    "    print(fruits)"
   ]
  },
  {
   "cell_type": "code",
   "execution_count": 4,
   "id": "ba1ce5b3",
   "metadata": {},
   "outputs": [
    {
     "name": "stdout",
     "output_type": "stream",
     "text": [
      "apple\n",
      "apple pie\n",
      "banana\n",
      "banana pie\n",
      "mango\n",
      "mango pie\n",
      "['apple', 'banana', 'mango']\n"
     ]
    }
   ],
   "source": [
    "fruits = [\"apple\", \"banana\", \"mango\"]\n",
    "\n",
    "for fruit in fruits:\n",
    "    print(fruit)\n",
    "    print(fruit  + \" pie\")\n",
    "print(fruits)"
   ]
  },
  {
   "cell_type": "code",
   "execution_count": 6,
   "id": "b2d9cd67",
   "metadata": {},
   "outputs": [
    {
     "name": "stdout",
     "output_type": "stream",
     "text": [
      "Input a list of student heights 100 125 150 175 200 225 250 275 300\n",
      "9\n",
      "1800\n"
     ]
    }
   ],
   "source": [
    "# COding Exercise = The Average Height\n",
    "\n",
    "# 🚨 Don't change the code below 👇\n",
    "student_heights = input(\"Input a list of student heights \").split()\n",
    "for n in range(0, len(student_heights)):\n",
    "    student_heights[n] = int(student_heights[n])\n",
    "# 🚨 Don't change the code above 👆\n",
    "\n",
    "\n",
    "#Write your code below this row 👇\n",
    "\n",
    "print(len(student_heights))\n",
    "print(sum(student_heights))\n"
   ]
  },
  {
   "cell_type": "code",
   "execution_count": 7,
   "id": "11d0a59b",
   "metadata": {},
   "outputs": [
    {
     "name": "stdout",
     "output_type": "stream",
     "text": [
      "Input a list of student heights 100 125 150 175 200 225 250 275 300\n",
      "200\n"
     ]
    }
   ],
   "source": [
    "# 🚨 Don't change the code below 👇\n",
    "student_heights = input(\"Input a list of student heights \").split()\n",
    "for n in range(0, len(student_heights)):\n",
    "    student_heights[n] = int(student_heights[n])\n",
    "# 🚨 Don't change the code above 👆\n",
    "\n",
    "\n",
    "#Write your code below this row 👇\n",
    "\n",
    "total_height = sum(student_heights)\n",
    "number_of_students = len(student_heights)\n",
    "average_height = round(total_height/number_of_students)\n",
    "print(average_height)\n",
    "\n",
    "\n"
   ]
  },
  {
   "cell_type": "code",
   "execution_count": 10,
   "id": "d559e8aa",
   "metadata": {},
   "outputs": [
    {
     "name": "stdout",
     "output_type": "stream",
     "text": [
      "Input a list of student heights 100 125 150 175 200 225\n",
      "975\n",
      "6\n",
      "162\n"
     ]
    }
   ],
   "source": [
    "# 🚨 Don't change the code below 👇\n",
    "student_heights = input(\"Input a list of student heights \").split()\n",
    "for n in range(0, len(student_heights)):\n",
    "    student_heights[n] = int(student_heights[n])\n",
    "# 🚨 Don't change the code above 👆\n",
    "\n",
    "\n",
    "#Write your code below this row 👇\n",
    "\n",
    "total_height = 0\n",
    "for height in student_heights:\n",
    "    total_height += height\n",
    "print(total_height)\n",
    "\n",
    "\n",
    "number_of_students = 0\n",
    "for students in student_heights:\n",
    "    number_of_students += 1\n",
    "print(number_of_students)\n",
    "\n",
    "\n",
    "average_height = round(total_height/number_of_students)\n",
    "print(average_height)\n",
    "\n",
    "\n"
   ]
  },
  {
   "cell_type": "code",
   "execution_count": 12,
   "id": "d53e2591",
   "metadata": {},
   "outputs": [
    {
     "name": "stdout",
     "output_type": "stream",
     "text": [
      "Input a list of student scores 100 125 150 175\n",
      "[100, 125, 150, 175]\n",
      "175\n",
      "100\n"
     ]
    }
   ],
   "source": [
    "# COding Exercise = The highest score exercise\n",
    "\n",
    "# 🚨 Don't change the code below 👇\n",
    "student_scores = input(\"Input a list of student scores \").split()\n",
    "for n in range(0, len(student_scores)):\n",
    "    student_scores[n] = int(student_scores[n])\n",
    "print(student_scores)\n",
    "# 🚨 Don't change the code above 👆\n",
    "\n",
    "#Write your code below this row 👇\n",
    "print(max(student_scores))\n",
    "print(min(student_scores))\n",
    "\n"
   ]
  },
  {
   "cell_type": "code",
   "execution_count": 14,
   "id": "41a8fc5d",
   "metadata": {},
   "outputs": [
    {
     "name": "stdout",
     "output_type": "stream",
     "text": [
      "Input a list of student scores 10 20 30 50 40 80 100 150 175\n",
      "[10, 20, 30, 50, 40, 80, 100, 150, 175]\n",
      "the highest score is: 175\n"
     ]
    }
   ],
   "source": [
    "# 🚨 Don't change the code below 👇\n",
    "student_scores = input(\"Input a list of student scores \").split()\n",
    "for n in range(0, len(student_scores)):\n",
    "  student_scores[n] = int(student_scores[n])\n",
    "print(student_scores)\n",
    "# 🚨 Don't change the code above 👆\n",
    "\n",
    "#Write your code below this row 👇\n",
    "\n",
    "highest_score =0\n",
    "for score in student_scores:\n",
    "    if score > highest_score:\n",
    "        highest_score = score\n",
    "print(f\"the highest score is: {highest_score}\")\n"
   ]
  },
  {
   "cell_type": "code",
   "execution_count": 15,
   "id": "929296c6",
   "metadata": {},
   "outputs": [
    {
     "name": "stdout",
     "output_type": "stream",
     "text": [
      "1\n",
      "2\n",
      "3\n",
      "4\n",
      "5\n",
      "6\n",
      "7\n",
      "8\n",
      "9\n"
     ]
    }
   ],
   "source": [
    "#For loop with range\n",
    "\n",
    "for number in range(1, 10):\n",
    "    print(number)\n",
    "\n",
    "\n"
   ]
  },
  {
   "cell_type": "code",
   "execution_count": 16,
   "id": "7a54e1b5",
   "metadata": {},
   "outputs": [
    {
     "name": "stdout",
     "output_type": "stream",
     "text": [
      "1\n",
      "2\n",
      "3\n",
      "4\n",
      "5\n",
      "6\n",
      "7\n",
      "8\n",
      "9\n",
      "10\n"
     ]
    }
   ],
   "source": [
    "\n",
    "for number in range(1, 11):\n",
    "    print(number)\n"
   ]
  },
  {
   "cell_type": "code",
   "execution_count": 17,
   "id": "b0fde9f3",
   "metadata": {},
   "outputs": [
    {
     "name": "stdout",
     "output_type": "stream",
     "text": [
      "1\n",
      "4\n",
      "7\n",
      "10\n"
     ]
    }
   ],
   "source": [
    "\n",
    "for number in range(1, 11, 3):\n",
    "    print(number)\n"
   ]
  },
  {
   "cell_type": "code",
   "execution_count": 19,
   "id": "327390ba",
   "metadata": {},
   "outputs": [
    {
     "name": "stdout",
     "output_type": "stream",
     "text": [
      "5050\n"
     ]
    }
   ],
   "source": [
    "# adding all the numbers starting from 1 to 100\n",
    "total = 0\n",
    "for number in range(1, 101):\n",
    "    total += number\n",
    "print(total)\n"
   ]
  },
  {
   "cell_type": "code",
   "execution_count": 20,
   "id": "b0d310a2",
   "metadata": {},
   "outputs": [
    {
     "name": "stdout",
     "output_type": "stream",
     "text": [
      "2550\n"
     ]
    }
   ],
   "source": [
    "# Coding exercise adding even numbers\n",
    "# calculating the sum of even numbers from 1 to 100 , including 1 and 100.\n",
    "\n",
    "total = 0\n",
    "for number in range(2, 101, 2):\n",
    "    total += number\n",
    "print(total)"
   ]
  },
  {
   "cell_type": "code",
   "execution_count": 21,
   "id": "083a4bd3",
   "metadata": {},
   "outputs": [
    {
     "name": "stdout",
     "output_type": "stream",
     "text": [
      "2550\n"
     ]
    }
   ],
   "source": [
    "total2 = 0\n",
    "for number in range(1, 101):\n",
    "    if number % 2 ==0:\n",
    "        total2 += number\n",
    "print(total2)"
   ]
  },
  {
   "cell_type": "code",
   "execution_count": 22,
   "id": "6832ff50",
   "metadata": {},
   "outputs": [
    {
     "name": "stdout",
     "output_type": "stream",
     "text": [
      "1\n",
      "2\n",
      "Fizz\n",
      "4\n",
      "Buzz\n",
      "Fizz\n",
      "7\n",
      "8\n",
      "Fizz\n",
      "Buzz\n",
      "11\n",
      "Fizz\n",
      "13\n",
      "14\n",
      "FizzBuzz\n",
      "16\n",
      "17\n",
      "Fizz\n",
      "19\n",
      "Buzz\n",
      "Fizz\n",
      "22\n",
      "23\n",
      "Fizz\n",
      "Buzz\n",
      "26\n",
      "Fizz\n",
      "28\n",
      "29\n",
      "FizzBuzz\n",
      "31\n",
      "32\n",
      "Fizz\n",
      "34\n",
      "Buzz\n",
      "Fizz\n",
      "37\n",
      "38\n",
      "Fizz\n",
      "Buzz\n",
      "41\n",
      "Fizz\n",
      "43\n",
      "44\n",
      "FizzBuzz\n",
      "46\n",
      "47\n",
      "Fizz\n",
      "49\n",
      "Buzz\n",
      "Fizz\n",
      "52\n",
      "53\n",
      "Fizz\n",
      "Buzz\n",
      "56\n",
      "Fizz\n",
      "58\n",
      "59\n",
      "FizzBuzz\n",
      "61\n",
      "62\n",
      "Fizz\n",
      "64\n",
      "Buzz\n",
      "Fizz\n",
      "67\n",
      "68\n",
      "Fizz\n",
      "Buzz\n",
      "71\n",
      "Fizz\n",
      "73\n",
      "74\n",
      "FizzBuzz\n",
      "76\n",
      "77\n",
      "Fizz\n",
      "79\n",
      "Buzz\n",
      "Fizz\n",
      "82\n",
      "83\n",
      "Fizz\n",
      "Buzz\n",
      "86\n",
      "Fizz\n",
      "88\n",
      "89\n",
      "FizzBuzz\n",
      "91\n",
      "92\n",
      "Fizz\n",
      "94\n",
      "Buzz\n",
      "Fizz\n",
      "97\n",
      "98\n",
      "Fizz\n",
      "Buzz\n"
     ]
    }
   ],
   "source": [
    "# coding exercise- Fizz Buzz Exercise \n",
    "\n",
    "\n",
    "#You are going to write a program that automatically prints the solution to the FizzBuzz game.\n",
    "\n",
    "#Your program should print each number from 1 to 100 in turn.\n",
    "\n",
    "#When the number is divisible by 3 then instead of printing the number it should print \"Fizz\".\n",
    "\n",
    "#When the number is divisible by 5, then instead of printing the number it should print \"Buzz\".`\n",
    "\n",
    "#And if the number is divisible by both 3 and 5 e.g. 15 then instead of the number it should print \"FizzBuzz\"`\n",
    "\n",
    "\n",
    "for number in range(1, 101):\n",
    "    if number % 3==0 and number % 5==0:\n",
    "        #Divisible by 3 and 5\n",
    "        print(\"FizzBuzz\")\n",
    "    elif number % 3 ==0:\n",
    "        print(\"Fizz\")\n",
    "    elif number % 5 ==0:\n",
    "        print(\"Buzz\")\n",
    "    else:\n",
    "        print(number)\n",
    "\n",
    "\n",
    "\n"
   ]
  },
  {
   "cell_type": "code",
   "execution_count": null,
   "id": "42fb090c",
   "metadata": {},
   "outputs": [],
   "source": []
  },
  {
   "cell_type": "code",
   "execution_count": null,
   "id": "1f7ba22a",
   "metadata": {},
   "outputs": [],
   "source": []
  }
 ],
 "metadata": {
  "kernelspec": {
   "display_name": "Python 3 (ipykernel)",
   "language": "python",
   "name": "python3"
  },
  "language_info": {
   "codemirror_mode": {
    "name": "ipython",
    "version": 3
   },
   "file_extension": ".py",
   "mimetype": "text/x-python",
   "name": "python",
   "nbconvert_exporter": "python",
   "pygments_lexer": "ipython3",
   "version": "3.9.7"
  }
 },
 "nbformat": 4,
 "nbformat_minor": 5
}
