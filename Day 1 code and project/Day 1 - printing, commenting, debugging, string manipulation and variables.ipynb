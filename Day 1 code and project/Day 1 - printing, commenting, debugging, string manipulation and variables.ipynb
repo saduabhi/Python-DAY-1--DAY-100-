{
 "cells": [
  {
   "cell_type": "markdown",
   "id": "c02c21c6",
   "metadata": {},
   "source": [
    "**Day 1 - python printing, commenting, Debugging, String manipulation and variables**"
   ]
  },
  {
   "cell_type": "code",
   "execution_count": 1,
   "id": "03270263",
   "metadata": {},
   "outputs": [
    {
     "name": "stdout",
     "output_type": "stream",
     "text": [
      "Day1 - Python print function\n",
      "the function is declared like this\n",
      "print('what to print')\n"
     ]
    }
   ],
   "source": [
    "print('Day1 - Python print function')   #printing\n",
    "print('the function is declared like this')\n",
    "print(\"print('what to print')\")      "
   ]
  },
  {
   "cell_type": "code",
   "execution_count": 2,
   "id": "12a0fd28",
   "metadata": {},
   "outputs": [
    {
     "name": "stdout",
     "output_type": "stream",
     "text": [
      "hello sadu\n",
      "hello sadu\n"
     ]
    }
   ],
   "source": [
    "#String manipulation and code intelligence\n",
    "print('hello sadu\\nhello sadu')"
   ]
  },
  {
   "cell_type": "code",
   "execution_count": 3,
   "id": "33326e68",
   "metadata": {},
   "outputs": [
    {
     "name": "stdout",
     "output_type": "stream",
     "text": [
      "hellosadu\n",
      "hello sadu\n"
     ]
    }
   ],
   "source": [
    "#concatenate- combining different strings so that will be added to the end of another strings.\n",
    "print(\"hello\" + \"sadu\")\n",
    "print(\"hello\" +\" \"+\"sadu\")"
   ]
  },
  {
   "cell_type": "code",
   "execution_count": 4,
   "id": "708e19be",
   "metadata": {},
   "outputs": [
    {
     "name": "stdout",
     "output_type": "stream",
     "text": [
      "Day 1 -string Manipulation\n",
      "string concatenation is done with '+' sign.\n",
      "e.g print(\"hello\" + \"world\")\n",
      "new lines can be created with backslash and n.\n"
     ]
    }
   ],
   "source": [
    "#Debugging\n",
    "print(\"Day 1 -string Manipulation\")\n",
    "print(\"string concatenation is done with '+' sign.\")\n",
    "print('e.g print(\"hello\" + \"world\")')\n",
    "print(\"new lines can be created with backslash and n.\")"
   ]
  },
  {
   "cell_type": "code",
   "execution_count": 5,
   "id": "13051858",
   "metadata": {},
   "outputs": [
    {
     "name": "stdout",
     "output_type": "stream",
     "text": [
      "hii man, how are you?sadu\n"
     ]
    },
    {
     "data": {
      "text/plain": [
       "'sadu'"
      ]
     },
     "execution_count": 5,
     "metadata": {},
     "output_type": "execute_result"
    }
   ],
   "source": [
    "#input infunction\n",
    "input(\"hii man, how are you?\")"
   ]
  },
  {
   "cell_type": "code",
   "execution_count": 6,
   "id": "2c39381e",
   "metadata": {},
   "outputs": [
    {
     "name": "stdout",
     "output_type": "stream",
     "text": [
      "what is your name?sadu\n",
      "hello sadu\n"
     ]
    }
   ],
   "source": [
    "print(\"hello \" + input(\"what is your name?\"))"
   ]
  },
  {
   "cell_type": "code",
   "execution_count": 7,
   "id": "69710562",
   "metadata": {},
   "outputs": [
    {
     "name": "stdout",
     "output_type": "stream",
     "text": [
      "what is your name?Angela\n",
      "6\n"
     ]
    }
   ],
   "source": [
    "#Write a program that prints the number of characters in a user's name. You might need to Google for a function that calculates the length of a string.\n",
    "input(\"what is your name?\")\n",
    "\n",
    "print(len(\"Angela\"))\n",
    "\n"
   ]
  },
  {
   "cell_type": "code",
   "execution_count": 8,
   "id": "36bde3f6",
   "metadata": {},
   "outputs": [
    {
     "name": "stdout",
     "output_type": "stream",
     "text": [
      "what is your name?sadu\n",
      "4\n"
     ]
    }
   ],
   "source": [
    "print( len(input(\"what is your name?\")))"
   ]
  },
  {
   "cell_type": "code",
   "execution_count": 9,
   "id": "8c5bb218",
   "metadata": {},
   "outputs": [
    {
     "name": "stdout",
     "output_type": "stream",
     "text": [
      "what is your name?sadu\n",
      "sadu\n"
     ]
    }
   ],
   "source": [
    "#python variables\n",
    "name = input(\"what is your name?\")\n",
    "print(name)"
   ]
  },
  {
   "cell_type": "code",
   "execution_count": 11,
   "id": "150709da",
   "metadata": {},
   "outputs": [
    {
     "name": "stdout",
     "output_type": "stream",
     "text": [
      "sadu\n",
      "abhi\n"
     ]
    }
   ],
   "source": [
    "name= \"sadu\"\n",
    "print(name)\n",
    "\n",
    "name= \"abhi\"\n",
    "print(name)"
   ]
  },
  {
   "cell_type": "code",
   "execution_count": 12,
   "id": "38f356ce",
   "metadata": {},
   "outputs": [
    {
     "name": "stdout",
     "output_type": "stream",
     "text": [
      "what is your name?sadu\n",
      "4\n"
     ]
    }
   ],
   "source": [
    "name = input(\"what is your name?\")\n",
    "length = len(name)\n",
    "\n",
    "print(length)"
   ]
  },
  {
   "cell_type": "code",
   "execution_count": 13,
   "id": "f8c10af2",
   "metadata": {},
   "outputs": [
    {
     "name": "stdout",
     "output_type": "stream",
     "text": [
      "a: 3\n",
      "b: 5\n",
      "a: 5\n",
      "b: 3\n"
     ]
    }
   ],
   "source": [
    "# 🚨 Don't change the code below 👇\n",
    "a = input(\"a: \")\n",
    "b = input(\"b: \")\n",
    "# 🚨 Don't change the code above 👆\n",
    "\n",
    "####################################\n",
    "#Write your code below this line 👇\n",
    "\n",
    "c = a\n",
    "a =b\n",
    "b = c\n",
    "\n",
    "#Write your code above this line 👆\n",
    "####################################\n",
    "\n",
    "# 🚨 Don't change the code below 👇\n",
    "print(\"a: \" + a)\n",
    "print(\"b: \" + b)"
   ]
  },
  {
   "cell_type": "markdown",
   "id": "9eb2ad30",
   "metadata": {},
   "source": [
    "**project 1 - Band name generator**"
   ]
  },
  {
   "cell_type": "code",
   "execution_count": 20,
   "id": "9f57f1d8",
   "metadata": {},
   "outputs": [
    {
     "name": "stdout",
     "output_type": "stream",
     "text": [
      "Welcome to the Band name generator\n",
      "what city did you grew up?\n",
      "bangalore\n",
      "what is your pet name?\n",
      "nik\n",
      "Your band name could be bangalore nik\n"
     ]
    }
   ],
   "source": [
    "#create the greeting for the program\n",
    "print(\"Welcome to the Band name generator\")\n",
    "\n",
    "#asking the user in which city did they grew up\n",
    "city = input(\"what city did you grew up?\\n\")\n",
    "#print(city)\n",
    "\n",
    "#asking the user about their pet name\n",
    "pet_name = input(\"what is your pet name?\\n\")\n",
    "#print(pet_name)\n",
    "\n",
    "#combine the name of their city and pet name and show them their band name\n",
    "print(\"Your band name could be \" + city + \" \" + pet_name)\n",
    "\n",
    "#make sure that the input cursor shows on the next or new line"
   ]
  },
  {
   "cell_type": "code",
   "execution_count": null,
   "id": "4f295fab",
   "metadata": {},
   "outputs": [],
   "source": []
  },
  {
   "cell_type": "code",
   "execution_count": null,
   "id": "9a0b9712",
   "metadata": {},
   "outputs": [],
   "source": []
  }
 ],
 "metadata": {
  "kernelspec": {
   "display_name": "Python 3 (ipykernel)",
   "language": "python",
   "name": "python3"
  },
  "language_info": {
   "codemirror_mode": {
    "name": "ipython",
    "version": 3
   },
   "file_extension": ".py",
   "mimetype": "text/x-python",
   "name": "python",
   "nbconvert_exporter": "python",
   "pygments_lexer": "ipython3",
   "version": "3.9.7"
  }
 },
 "nbformat": 4,
 "nbformat_minor": 5
}
