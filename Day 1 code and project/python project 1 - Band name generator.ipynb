{
 "cells": [
  {
   "cell_type": "markdown",
   "id": "628480a8",
   "metadata": {},
   "source": [
    "**project 1 - Band name generator**"
   ]
  },
  {
   "cell_type": "code",
   "execution_count": 2,
   "id": "f574b7c8",
   "metadata": {},
   "outputs": [
    {
     "name": "stdout",
     "output_type": "stream",
     "text": [
      "Welcome to the Band name generator\n",
      "what city did you grew up?\n",
      "Bangalore\n",
      "what is your pet name?\n",
      "charlie\n",
      "Your band name could be Bangalore charlie\n"
     ]
    }
   ],
   "source": [
    "#create the greeting for the program\n",
    "print(\"Welcome to the Band name generator\")\n",
    "\n",
    "#asking the user in which city did they grew up\n",
    "city = input(\"what city did you grew up?\\n\")\n",
    "#print(city)\n",
    "\n",
    "#asking the user about their pet name\n",
    "pet_name = input(\"what is your pet name?\\n\")\n",
    "#print(pet_name)\n",
    "\n",
    "#combine the name of their city and pet name and show them their band name\n",
    "print(\"Your band name could be \" + city + \" \" + pet_name)\n",
    "\n",
    "#make sure that the input cursor shows on the next or new line"
   ]
  },
  {
   "cell_type": "code",
   "execution_count": null,
   "id": "b376c604",
   "metadata": {},
   "outputs": [],
   "source": []
  }
 ],
 "metadata": {
  "kernelspec": {
   "display_name": "Python 3 (ipykernel)",
   "language": "python",
   "name": "python3"
  },
  "language_info": {
   "codemirror_mode": {
    "name": "ipython",
    "version": 3
   },
   "file_extension": ".py",
   "mimetype": "text/x-python",
   "name": "python",
   "nbconvert_exporter": "python",
   "pygments_lexer": "ipython3",
   "version": "3.9.7"
  }
 },
 "nbformat": 4,
 "nbformat_minor": 5
}
